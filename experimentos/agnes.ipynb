{
 "cells": [
  {
   "cell_type": "code",
   "execution_count": null,
   "id": "04d00bc4",
   "metadata": {},
   "outputs": [],
   "source": [
    "\n",
    "import pandas as pd\n",
    "from sklearn.cluster import AgglomerativeClustering\n",
    "df = pd.read_csv('Food_Delivery_times.csv')\n",
    "AgglomerativeClustering()"
   ]
  }
 ],
 "metadata": {
  "language_info": {
   "name": "python"
  }
 },
 "nbformat": 4,
 "nbformat_minor": 5
}
