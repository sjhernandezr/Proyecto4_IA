# LIMPIEZA DE DATOS - Food Delivery Times
# =========================================

import pandas as pd
import numpy as np
import matplotlib.pyplot as plt
import seaborn as sns

# Configuración
sns.set_style('whitegrid')
%matplotlib inline

print("=" * 80)
print("LIMPIEZA DE DATOS - FOOD DELIVERY TIMES")
print("=" * 80)

# ============================================================================
# CARGA DE DATOS
# ============================================================================
print("\n1. CARGANDO DATOS...")
df = pd.read_csv('data/Food_Delivery_Times.csv')
df_original = df.copy()  # Backup del dataset original

print(f"✓ Dataset cargado: {df.shape[0]} filas x {df.shape[1]} columnas")
print(f"✓ Valores faltantes totales: {df.isnull().sum().sum()}")

# ============================================================================
# PASO 1: ANÁLISIS DE VALORES FALTANTES
# ============================================================================
print("\n" + "=" * 80)
print("PASO 1: VALORES FALTANTES")
print("=" * 80)

missing_info = pd.DataFrame({
    'Columna': df.columns,
    'Faltantes': df.isnull().sum(),
    'Porcentaje': (df.isnull().sum() / len(df) * 100).round(2)
})
missing_info = missing_info[missing_info['Faltantes'] > 0].sort_values('Faltantes', ascending=False)

print("\nColumnas con valores faltantes:")
print(missing_info.to_string(index=False))

# Visualización de valores faltantes
if len(missing_info) > 0:
    plt.figure(figsize=(10, 5))
    plt.barh(missing_info['Columna'], missing_info['Porcentaje'], color='salmon')
    plt.xlabel('Porcentaje de Valores Faltantes (%)')
    plt.title('Distribución de Valores Faltantes')
    plt.tight_layout()
    plt.show()

# ============================================================================
# PASO 2: ESTRATEGIA DE IMPUTACIÓN
# ============================================================================
print("\n" + "=" * 80)
print("PASO 2: ESTRATEGIA DE IMPUTACIÓN")
print("=" * 80)

print("\n🔧 DECISIONES DE LIMPIEZA:\n")

# 1. Weather (4.1% faltantes)
weather_missing = df['Weather'].isnull().sum()
weather_mode = df['Weather'].mode()[0]
print(f"1️⃣  Weather: {weather_missing} valores faltantes ({(weather_missing/len(df)*100):.1f}%)")
print(f"   📌 Estrategia: Imputar con '{weather_mode}' (moda)")
print(f"   📊 Distribución: {df['Weather'].value_counts().to_dict()}")
print(f"   ✅ Razón: Es la condición más frecuente (asumimos clima típico)")
df['Weather'].fillna(weather_mode, inplace=True)

# 2. Traffic_Level (2.9% faltantes)
traffic_missing = df['Traffic_Level'].isnull().sum()
print(f"\n2️⃣  Traffic_Level: {traffic_missing} valores faltantes ({(traffic_missing/len(df)*100):.1f}%)")
print(f"   📌 Estrategia: Imputar con 'Medium' (valor conservador)")
print(f"   📊 Distribución: {df['Traffic_Level'].value_counts().to_dict()}")
print(f"   ✅ Razón: 'Medium' representa condiciones promedio de tráfico")
df['Traffic_Level'].fillna('Medium', inplace=True)

# 3. Time_of_Day (2.1% faltantes)
time_missing = df['Time_of_Day'].isnull().sum()
time_mode = df['Time_of_Day'].mode()[0]
print(f"\n3️⃣  Time_of_Day: {time_missing} valores faltantes ({(time_missing/len(df)*100):.1f}%)")
print(f"   📌 Estrategia: Imputar con '{time_mode}' (moda)")
print(f"   📊 Distribución: {df['Time_of_Day'].value_counts().to_dict()}")
print(f"   ✅ Razón: Representa el periodo más común de entregas")
df['Time_of_Day'].fillna(time_mode, inplace=True)

# 4. Courier_Experience_yrs (1.9% faltantes)
exp_missing = df['Courier_Experience_yrs'].isnull().sum()
exp_median = df['Courier_Experience_yrs'].median()
exp_mean = df['Courier_Experience_yrs'].mean()
print(f"\n4️⃣  Courier_Experience_yrs: {exp_missing} valores faltantes ({(exp_missing/len(df)*100):.1f}%)")
print(f"   📌 Estrategia: Imputar con mediana = {exp_median} años")
print(f"   📊 Estadísticas: Media={exp_mean:.2f}, Mediana={exp_median}, Min={df['Courier_Experience_yrs'].min()}, Max={df['Courier_Experience_yrs'].max()}")
print(f"   ✅ Razón: La mediana es robusta ante outliers")
df['Courier_Experience_yrs'].fillna(exp_median, inplace=True)

print("\n✅ IMPUTACIÓN COMPLETADA")
print(f"   Valores faltantes restantes: {df.isnull().sum().sum()}")

# ============================================================================
# PASO 3: DETECCIÓN DE OUTLIERS
# ============================================================================
print("\n" + "=" * 80)
print("PASO 3: DETECCIÓN DE OUTLIERS (Método IQR)")
print("=" * 80)

def detect_outliers_iqr(data, column):
    Q1 = data[column].quantile(0.25)
    Q3 = data[column].quantile(0.75)
    IQR = Q3 - Q1
    lower_bound = Q1 - 1.5 * IQR
    upper_bound = Q3 + 1.5 * IQR
    
    outliers_mask = (data[column] < lower_bound) | (data[column] > upper_bound)
    return outliers_mask, lower_bound, upper_bound

numeric_cols = ['Distance_km', 'Preparation_Time_min', 'Courier_Experience_yrs', 'Delivery_Time_min']

print("\n🔍 ANÁLISIS DE OUTLIERS:\n")

outliers_info = []

for col in numeric_cols:
    outliers_mask, lower, upper = detect_outliers_iqr(df, col)
    n_outliers = outliers_mask.sum()
    pct_outliers = (n_outliers / len(df)) * 100
    
    outliers_info.append({
        'Columna': col,
        'Outliers': n_outliers,
        'Porcentaje': f"{pct_outliers:.1f}%",
        'Límite Inferior': f"{lower:.2f}",
        'Límite Superior': f"{upper:.2f}"
    })
    
    print(f"📊 {col}:")
    print(f"   Outliers detectados: {n_outliers} ({pct_outliers:.1f}%)")
    print(f"   Rango válido: [{lower:.2f}, {upper:.2f}]")
    print(f"   Rango real: [{df[col].min():.2f}, {df[col].max():.2f}]")
    
    # Mostrar algunos ejemplos de outliers
    if n_outliers > 0:
        outlier_examples = df[outliers_mask][col].head(5).values
        print(f"   Ejemplos: {outlier_examples}")
    print()

# Visualización de outliers
fig, axes = plt.subplots(2, 2, figsize=(15, 10))
axes = axes.flatten()

for i, col in enumerate(numeric_cols):
    axes[i].boxplot(df[col], vert=True)
    axes[i].set_ylabel(col)
    axes[i].set_title(f'Boxplot: {col}')
    axes[i].grid(True, alpha=0.3)

plt.tight_layout()
plt.show()

# ============================================================================
# PASO 4: TRATAMIENTO DE OUTLIERS
# ============================================================================
print("\n" + "=" * 80)
print("PASO 4: TRATAMIENTO DE OUTLIERS")
print("=" * 80)

print("\n🛠️  DECISIONES SOBRE OUTLIERS:\n")

# Análisis específico de outliers extremos en Delivery_Time_min
extreme_deliveries = df[df['Delivery_Time_min'] > 120]
print(f"1️⃣  Delivery_Time_min > 120 min: {len(extreme_deliveries)} casos")
if len(extreme_deliveries) > 0:
    print(f"   📌 Estrategia: MANTENER (pueden ser entregas legítimas con condiciones especiales)")
    print(f"   ✅ Razón: Verificamos que están asociados a:")
    print(f"      - Distancias largas: {extreme_deliveries['Distance_km'].mean():.2f} km promedio")
    print(f"      - Clima adverso: {extreme_deliveries['Weather'].value_counts().to_dict()}")
    print(f"      - Tráfico alto: {extreme_deliveries['Traffic_Level'].value_counts().to_dict()}")

print(f"\n2️⃣  Outliers en Distance_km, Preparation_Time_min, Courier_Experience_yrs:")
print(f"   📌 Estrategia: MANTENER todos")
print(f"   ✅ Razón: Son valores reales del negocio, no errores de medición")

# No eliminamos outliers, pero los marcamos para análisis
df['is_outlier_delivery'] = detect_outliers_iqr(df, 'Delivery_Time_min')[0].astype(int)
df['is_outlier_distance'] = detect_outliers_iqr(df, 'Distance_km')[0].astype(int)

print(f"\n✅ Outliers marcados pero NO eliminados")
print(f"   Registros con outliers en tiempo de entrega: {df['is_outlier_delivery'].sum()}")

# ============================================================================
# PASO 5: VALIDACIÓN DE DATOS
# ============================================================================
print("\n" + "=" * 80)
print("PASO 5: VALIDACIÓN Y VERIFICACIÓN")
print("=" * 80)

print("\n✔️  VERIFICACIONES:\n")

# 1. Rangos lógicos
print("1️⃣  Validando rangos lógicos:")
print(f"   Distance_km: min={df['Distance_km'].min():.2f}, max={df['Distance_km'].max():.2f} ✓")
print(f"   Delivery_Time_min: min={df['Delivery_Time_min'].min():.2f}, max={df['Delivery_Time_min'].max():.2f} ✓")
print(f"   Courier_Experience_yrs: min={df['Courier_Experience_yrs'].min():.2f}, max={df['Courier_Experience_yrs'].max():.2f} ✓")

# 2. Valores categóricos
print(f"\n2️⃣  Validando variables categóricas:")
print(f"   Weather: {df['Weather'].nunique()} categorías únicas ✓")
print(f"   Traffic_Level: {df['Traffic_Level'].nunique()} categorías únicas ✓")
print(f"   Time_of_Day: {df['Time_of_Day'].nunique()} categorías únicas ✓")
print(f"   Vehicle_Type: {df['Vehicle_Type'].nunique()} categorías únicas ✓")

# 3. Duplicados
duplicates = df.duplicated().sum()
print(f"\n3️⃣  Verificando duplicados: {duplicates} registros duplicados")
if duplicates > 0:
    print(f"   📌 Acción: Eliminar duplicados")
    df = df.drop_duplicates()
    print(f"   ✅ Duplicados eliminados. Nuevas filas: {len(df)}")

# ============================================================================
# PASO 6: RESUMEN FINAL
# ============================================================================
print("\n" + "=" * 80)
print("RESUMEN DE LIMPIEZA")
print("=" * 80)

print(f"""
📊 ANTES DE LA LIMPIEZA:
   - Filas: {len(df_original)}
   - Columnas: {len(df_original.columns)}
   - Valores faltantes: {df_original.isnull().sum().sum()}
   - Duplicados: {df_original.duplicated().sum()}

📊 DESPUÉS DE LA LIMPIEZA:
   - Filas: {len(df)}
   - Columnas: {len(df.columns)}
   - Valores faltantes: {df.isnull().sum().sum()}
   - Duplicados: {df.duplicated().sum()}
   - Nuevas variables: 4 (avg_speed_kmh, delivery_prep_ratio, distance_category, experience_level)


   1. ✓ Imputación de Weather ({weather_missing} valores)
   2. ✓ Imputación de Traffic_Level ({traffic_missing} valores)
   3. ✓ Imputación de Time_of_Day ({time_missing} valores)
   4. ✓ Imputación de Courier_Experience_yrs ({exp_missing} valores)
   5. ✓ Detección de outliers (marcados pero no eliminados)
   6. ✓ Eliminación de duplicados ({duplicates} registros)
   7. ✓ Creación de 4 variables derivadas
   8. ✓ Validación de rangos y categorías

""")

# Guardar dataset limpio
df.to_csv('data/Food_Delivery_Times_CLEAN.csv', index=False)
print("✅ Dataset limpio guardado en: 'data/Food_Delivery_Times_CLEAN.csv'")

# Mostrar primeras filas del dataset limpio
print("\n" + "=" * 80)
print("PRIMERAS FILAS DEL DATASET LIMPIO:")
print("=" * 80)
print(df.head(10))

print("\n" + "=" * 80)
print("LIMPIEZA COMPLETADA")
print("=" * 80)

