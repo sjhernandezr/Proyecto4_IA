{
  "cells": [
    {
      "cell_type": "code",
      "execution_count": 43,
      "metadata": {
        "id": "qMxxkA5Zqhb_"
      },
      "outputs": [],
      "source": [
        "import pandas as pd\n",
        "import numpy as np\n",
        "import matplotlib.pyplot as plt\n",
        "import seaborn as sns\n",
        "from sklearn.preprocessing import StandardScaler, MinMaxScaler, LabelEncoder, OneHotEncoder\n",
        "from scipy import stats\n",
        "import warnings\n",
        "warnings.filterwarnings('ignore')"
      ]
    },
    {
      "cell_type": "code",
      "execution_count": 44,
      "metadata": {
        "colab": {
          "base_uri": "https://localhost:8080/"
        },
        "id": "uWVbXaosrL0l",
        "outputId": "d278a524-28d4-44cc-9786-9de41428be51"
      },
      "outputs": [
        {
          "name": "stdout",
          "output_type": "stream",
          "text": [
            "================================================================================\n",
            "1. CARGA DE DATOS\n",
            "================================================================================\n",
            "\n",
            "Dimensiones del dataset: 1000 filas x 9 columnas\n",
            "\n",
            "Primeras 5 filas:\n",
            "   Order_ID  Distance_km Weather Traffic_Level Time_of_Day Vehicle_Type  \\\n",
            "0       522         7.93   Windy           Low   Afternoon      Scooter   \n",
            "1       738        16.42   Clear        Medium     Evening         Bike   \n",
            "2       741         9.52   Foggy           Low       Night      Scooter   \n",
            "3       661         7.44   Rainy        Medium   Afternoon      Scooter   \n",
            "4       412        19.03   Clear           Low     Morning         Bike   \n",
            "\n",
            "   Preparation_Time_min  Courier_Experience_yrs  Delivery_Time_min  \n",
            "0                    12                     1.0                 43  \n",
            "1                    20                     2.0                 84  \n",
            "2                    28                     1.0                 59  \n",
            "3                     5                     1.0                 37  \n",
            "4                    16                     5.0                 68  \n"
          ]
        }
      ],
      "source": [
        "print(\"=\" * 80)\n",
        "print(\"1. CARGA DE DATOS\")\n",
        "print(\"=\" * 80)\n",
        "\n",
        "df = pd.read_csv('../datos/Food_Delivery_Times.csv')\n",
        "\n",
        "print(f\"\\nDimensiones del dataset: {df.shape[0]} filas x {df.shape[1]} columnas\")\n",
        "print(\"\\nPrimeras 5 filas:\")\n",
        "print(df.head())"
      ]
    },
    {
      "cell_type": "code",
      "execution_count": 45,
      "metadata": {
        "colab": {
          "base_uri": "https://localhost:8080/"
        },
        "id": "B6cQJ0X9q_1B",
        "outputId": "2998f9ad-6439-4276-d229-0fdfd5b6de34"
      },
      "outputs": [
        {
          "name": "stdout",
          "output_type": "stream",
          "text": [
            "(994, 9)\n"
          ]
        }
      ],
      "source": [
        "# 1. Eliminar duplicados\n",
        "df.drop_duplicates(inplace=True)\n",
        "\n",
        "# 2. Rellenar o eliminar datos faltantes\n",
        "# Ejemplo: rellenar valores numéricos con la mediana\n",
        "for col in df.select_dtypes(include=[np.number]).columns:\n",
        "    df[col].fillna(df[col].median(), inplace=True)\n",
        "\n",
        "# Rellenar valores categóricos con el modo\n",
        "for col in df.select_dtypes(include=['object']).columns:\n",
        "    df[col].fillna(df[col].mode()[0], inplace=True)\n",
        "\n",
        "# 3. Detección y eliminación de outliers (usando IQR)\n",
        "num_cols = df.select_dtypes(include=[np.number]).columns\n",
        "\n",
        "for col in num_cols:\n",
        "    Q1 = df[col].quantile(0.25)\n",
        "    Q3 = df[col].quantile(0.75)\n",
        "    IQR = Q3 - Q1\n",
        "    limite_inferior = Q1 - 1.5 * IQR\n",
        "    limite_superior = Q3 + 1.5 * IQR\n",
        "    df = df[(df[col] >= limite_inferior) & (df[col] <= limite_superior)]\n",
        "\n",
        "print(df.shape)\n"
      ]
    },
    {
      "cell_type": "code",
      "execution_count": 46,
      "metadata": {
        "colab": {
          "base_uri": "https://localhost:8080/",
          "height": 244
        },
        "id": "eNFPh2slrbX3",
        "outputId": "20b8b93f-c0f5-4a7d-f5a9-ca471440250b"
      },
      "outputs": [
        {
          "name": "stdout",
          "output_type": "stream",
          "text": [
            "Columnas categóricas: ['Weather', 'Traffic_Level', 'Time_of_Day', 'Vehicle_Type']\n"
          ]
        },
        {
          "data": {
            "text/html": [
              "<div>\n",
              "<style scoped>\n",
              "    .dataframe tbody tr th:only-of-type {\n",
              "        vertical-align: middle;\n",
              "    }\n",
              "\n",
              "    .dataframe tbody tr th {\n",
              "        vertical-align: top;\n",
              "    }\n",
              "\n",
              "    .dataframe thead th {\n",
              "        text-align: right;\n",
              "    }\n",
              "</style>\n",
              "<table border=\"1\" class=\"dataframe\">\n",
              "  <thead>\n",
              "    <tr style=\"text-align: right;\">\n",
              "      <th></th>\n",
              "      <th>Order_ID</th>\n",
              "      <th>Distance_km</th>\n",
              "      <th>Weather</th>\n",
              "      <th>Traffic_Level</th>\n",
              "      <th>Time_of_Day</th>\n",
              "      <th>Vehicle_Type</th>\n",
              "      <th>Preparation_Time_min</th>\n",
              "      <th>Courier_Experience_yrs</th>\n",
              "      <th>Delivery_Time_min</th>\n",
              "    </tr>\n",
              "  </thead>\n",
              "  <tbody>\n",
              "    <tr>\n",
              "      <th>0</th>\n",
              "      <td>522</td>\n",
              "      <td>7.93</td>\n",
              "      <td>4</td>\n",
              "      <td>1</td>\n",
              "      <td>0</td>\n",
              "      <td>2</td>\n",
              "      <td>12</td>\n",
              "      <td>1.0</td>\n",
              "      <td>43</td>\n",
              "    </tr>\n",
              "    <tr>\n",
              "      <th>1</th>\n",
              "      <td>738</td>\n",
              "      <td>16.42</td>\n",
              "      <td>0</td>\n",
              "      <td>2</td>\n",
              "      <td>1</td>\n",
              "      <td>0</td>\n",
              "      <td>20</td>\n",
              "      <td>2.0</td>\n",
              "      <td>84</td>\n",
              "    </tr>\n",
              "    <tr>\n",
              "      <th>2</th>\n",
              "      <td>741</td>\n",
              "      <td>9.52</td>\n",
              "      <td>1</td>\n",
              "      <td>1</td>\n",
              "      <td>3</td>\n",
              "      <td>2</td>\n",
              "      <td>28</td>\n",
              "      <td>1.0</td>\n",
              "      <td>59</td>\n",
              "    </tr>\n",
              "    <tr>\n",
              "      <th>3</th>\n",
              "      <td>661</td>\n",
              "      <td>7.44</td>\n",
              "      <td>2</td>\n",
              "      <td>2</td>\n",
              "      <td>0</td>\n",
              "      <td>2</td>\n",
              "      <td>5</td>\n",
              "      <td>1.0</td>\n",
              "      <td>37</td>\n",
              "    </tr>\n",
              "    <tr>\n",
              "      <th>4</th>\n",
              "      <td>412</td>\n",
              "      <td>19.03</td>\n",
              "      <td>0</td>\n",
              "      <td>1</td>\n",
              "      <td>2</td>\n",
              "      <td>0</td>\n",
              "      <td>16</td>\n",
              "      <td>5.0</td>\n",
              "      <td>68</td>\n",
              "    </tr>\n",
              "  </tbody>\n",
              "</table>\n",
              "</div>"
            ],
            "text/plain": [
              "   Order_ID  Distance_km  Weather  Traffic_Level  Time_of_Day  Vehicle_Type  \\\n",
              "0       522         7.93        4              1            0             2   \n",
              "1       738        16.42        0              2            1             0   \n",
              "2       741         9.52        1              1            3             2   \n",
              "3       661         7.44        2              2            0             2   \n",
              "4       412        19.03        0              1            2             0   \n",
              "\n",
              "   Preparation_Time_min  Courier_Experience_yrs  Delivery_Time_min  \n",
              "0                    12                     1.0                 43  \n",
              "1                    20                     2.0                 84  \n",
              "2                    28                     1.0                 59  \n",
              "3                     5                     1.0                 37  \n",
              "4                    16                     5.0                 68  "
            ]
          },
          "execution_count": 46,
          "metadata": {},
          "output_type": "execute_result"
        }
      ],
      "source": [
        "# Identificar columnas categóricas\n",
        "cat_cols = df.select_dtypes(include=['object']).columns\n",
        "print(\"Columnas categóricas:\", list(cat_cols))\n",
        "\n",
        "# Opción 1: Label Encoding (para variables con orden o pocas categorías)\n",
        "le = LabelEncoder()\n",
        "for col in cat_cols:\n",
        "    if df[col].nunique() <= 5:  # puedes ajustar este umbral\n",
        "        df[col] = le.fit_transform(df[col])\n",
        "    else:\n",
        "        # Opción 2: One-Hot Encoding (para variables sin orden y con varias categorías)\n",
        "        dummies = pd.get_dummies(df[col], prefix=col)\n",
        "        df = pd.concat([df.drop(col, axis=1), dummies], axis=1)\n",
        "df.head()"
      ]
    },
    {
      "cell_type": "code",
      "execution_count": 47,
      "metadata": {
        "colab": {
          "base_uri": "https://localhost:8080/",
          "height": 261
        },
        "id": "jgMgtP7VrgTW",
        "outputId": "5d49fc46-04f7-4e91-8999-74420fbc8147"
      },
      "outputs": [
        {
          "name": "stdout",
          "output_type": "stream",
          "text": [
            "\n",
            "✅ Normalización completada.\n"
          ]
        },
        {
          "data": {
            "text/html": [
              "<div>\n",
              "<style scoped>\n",
              "    .dataframe tbody tr th:only-of-type {\n",
              "        vertical-align: middle;\n",
              "    }\n",
              "\n",
              "    .dataframe tbody tr th {\n",
              "        vertical-align: top;\n",
              "    }\n",
              "\n",
              "    .dataframe thead th {\n",
              "        text-align: right;\n",
              "    }\n",
              "</style>\n",
              "<table border=\"1\" class=\"dataframe\">\n",
              "  <thead>\n",
              "    <tr style=\"text-align: right;\">\n",
              "      <th></th>\n",
              "      <th>Order_ID</th>\n",
              "      <th>Distance_km</th>\n",
              "      <th>Weather</th>\n",
              "      <th>Traffic_Level</th>\n",
              "      <th>Time_of_Day</th>\n",
              "      <th>Vehicle_Type</th>\n",
              "      <th>Preparation_Time_min</th>\n",
              "      <th>Courier_Experience_yrs</th>\n",
              "      <th>Delivery_Time_min</th>\n",
              "    </tr>\n",
              "  </thead>\n",
              "  <tbody>\n",
              "    <tr>\n",
              "      <th>0</th>\n",
              "      <td>0.075837</td>\n",
              "      <td>-0.367188</td>\n",
              "      <td>2.031759</td>\n",
              "      <td>-0.296387</td>\n",
              "      <td>-1.277600</td>\n",
              "      <td>1.374569</td>\n",
              "      <td>-0.688605</td>\n",
              "      <td>-1.250681</td>\n",
              "      <td>-0.623719</td>\n",
              "    </tr>\n",
              "    <tr>\n",
              "      <th>1</th>\n",
              "      <td>0.823324</td>\n",
              "      <td>1.127042</td>\n",
              "      <td>-0.855401</td>\n",
              "      <td>1.030679</td>\n",
              "      <td>-0.232386</td>\n",
              "      <td>-0.912162</td>\n",
              "      <td>0.422102</td>\n",
              "      <td>-0.902842</td>\n",
              "      <td>1.304302</td>\n",
              "    </tr>\n",
              "    <tr>\n",
              "      <th>2</th>\n",
              "      <td>0.833706</td>\n",
              "      <td>-0.087350</td>\n",
              "      <td>-0.133611</td>\n",
              "      <td>-0.296387</td>\n",
              "      <td>1.858040</td>\n",
              "      <td>1.374569</td>\n",
              "      <td>1.532810</td>\n",
              "      <td>-1.250681</td>\n",
              "      <td>0.128680</td>\n",
              "    </tr>\n",
              "    <tr>\n",
              "      <th>3</th>\n",
              "      <td>0.556859</td>\n",
              "      <td>-0.453427</td>\n",
              "      <td>0.588179</td>\n",
              "      <td>1.030679</td>\n",
              "      <td>-1.277600</td>\n",
              "      <td>1.374569</td>\n",
              "      <td>-1.660475</td>\n",
              "      <td>-1.250681</td>\n",
              "      <td>-0.905868</td>\n",
              "    </tr>\n",
              "    <tr>\n",
              "      <th>4</th>\n",
              "      <td>-0.304828</td>\n",
              "      <td>1.586399</td>\n",
              "      <td>-0.855401</td>\n",
              "      <td>-0.296387</td>\n",
              "      <td>0.812827</td>\n",
              "      <td>-0.912162</td>\n",
              "      <td>-0.133251</td>\n",
              "      <td>0.140675</td>\n",
              "      <td>0.551904</td>\n",
              "    </tr>\n",
              "  </tbody>\n",
              "</table>\n",
              "</div>"
            ],
            "text/plain": [
              "   Order_ID  Distance_km   Weather  Traffic_Level  Time_of_Day  Vehicle_Type  \\\n",
              "0  0.075837    -0.367188  2.031759      -0.296387    -1.277600      1.374569   \n",
              "1  0.823324     1.127042 -0.855401       1.030679    -0.232386     -0.912162   \n",
              "2  0.833706    -0.087350 -0.133611      -0.296387     1.858040      1.374569   \n",
              "3  0.556859    -0.453427  0.588179       1.030679    -1.277600      1.374569   \n",
              "4 -0.304828     1.586399 -0.855401      -0.296387     0.812827     -0.912162   \n",
              "\n",
              "   Preparation_Time_min  Courier_Experience_yrs  Delivery_Time_min  \n",
              "0             -0.688605               -1.250681          -0.623719  \n",
              "1              0.422102               -0.902842           1.304302  \n",
              "2              1.532810               -1.250681           0.128680  \n",
              "3             -1.660475               -1.250681          -0.905868  \n",
              "4             -0.133251                0.140675           0.551904  "
            ]
          },
          "execution_count": 47,
          "metadata": {},
          "output_type": "execute_result"
        }
      ],
      "source": [
        "# Seleccionar columnas numéricas\n",
        "num_cols = df.select_dtypes(include=[np.number]).columns\n",
        "\n",
        "# Escalador\n",
        "scaler = StandardScaler()\n",
        "df[num_cols] = scaler.fit_transform(df[num_cols])\n",
        "print(\"\\n✅ Normalización completada.\")\n",
        "df.head()"
      ]
    },
    {
      "cell_type": "code",
      "execution_count": null,
      "metadata": {
        "id": "9c8Z7VCUrmfN"
      },
      "outputs": [],
      "source": []
    },
    {
      "cell_type": "code",
      "execution_count": 48,
      "metadata": {
        "colab": {
          "base_uri": "https://localhost:8080/",
          "height": 625
        },
        "id": "CsQOr04Rodxf",
        "outputId": "7cbe4b0f-4535-4cf7-a6d0-fd12fa980a2b"
      },
      "outputs": [
        {
          "name": "stdout",
          "output_type": "stream",
          "text": [
            "Distance_km               0.670725\n",
            "Preparation_Time_min      0.145538\n",
            "Order_ID                  0.072871\n",
            "Traffic_Level             0.031752\n",
            "Courier_Experience_yrs    0.030858\n",
            "Weather                   0.021306\n",
            "Time_of_Day               0.017144\n",
            "Vehicle_Type              0.009805\n",
            "dtype: float64\n"
          ]
        },
        {
          "data": {
            "image/png": "[encoded data removed]",
            "text/plain": [
              "<Figure size 1000x500 with 1 Axes>"
            ]
          },
          "metadata": {},
          "output_type": "display_data"
        }
      ],
      "source": [
        "from sklearn.model_selection import train_test_split\n",
        "from sklearn.tree import DecisionTreeRegressor\n",
        "from xgboost import XGBRegressor\n",
        "from sklearn.linear_model import Lasso\n",
        "import pandas as pd\n",
        "import numpy as np\n",
        "import matplotlib.pyplot as plt\n",
        "\n",
        "target = 'Delivery_Time_min'\n",
        "if target not in df.columns:\n",
        "    print(f\"No existe esta variable\")\n",
        "else:\n",
        "    X = df.drop(target, axis=1)\n",
        "    y = df[target]\n",
        "\n",
        "    # Dividir en conjunto de entrenamiento y prueba\n",
        "    X_train, X_test, y_train, y_test = train_test_split(X, y, test_size=0.2, random_state=42)\n",
        "    # Árbol de Decisión\n",
        "    tree = DecisionTreeRegressor(random_state=42)\n",
        "    tree.fit(X_train, y_train)\n",
        "\n",
        "    importances_tree = pd.Series(tree.feature_importances_, index=X.columns)\n",
        "    print(importances_tree.sort_values(ascending=False))\n",
        "\n",
        "    #Visualizacion comparativa\n",
        "    plt.figure(figsize=(10,5))\n",
        "    importances_tree.sort_values(ascending=False).plot(kind='bar', alpha=0.6, label='Decision Tree')\n",
        "    plt.title(\"Comparación de Importancia de Características\")\n",
        "    plt.legend()\n",
        "    plt.tight_layout()\n",
        "    plt.show()\n"
      ]
    },
    {
      "cell_type": "code",
      "execution_count": 49,
      "metadata": {},
      "outputs": [
        {
          "name": "stdout",
          "output_type": "stream",
          "text": [
            "\n",
            "Archivos guardados exitosamente:\n",
            "- Train_X.csv:  (596, 8)\n",
            "- Train_Y.csv:  (596,)\n",
            "- Validation_1.csv:  (199, 8)\n",
            "- Validation_2.csv:  (199,)\n",
            "- Test_1.csv:  (199, 8)\n",
            "- Test_2.csv:  (199,)\n"
          ]
        }
      ],
      "source": [
        "import pandas as pd\n",
        "from sklearn.model_selection import train_test_split\n",
        "df_tests = pd.read_csv('../datos/Food_Delivery_times.csv')\n",
        "\n",
        "x_train_val, x_test, y_train_val, y_test = train_test_split(X, y, test_size=0.2, random_state=100)\n",
        "x_train, x_val, y_train, y_val = train_test_split(x_train_val, y_train_val, test_size=0.25, random_state=100)\n",
        "\n",
        "x_train.to_csv('../datos/Train_X.csv', index=False)\n",
        "y_train.to_csv('../datos/Train_Y.csv', index=False)\n",
        "x_val.to_csv('../datos/Validation_1.csv', index=False)\n",
        "y_val.to_csv('../datos/Validation_2.csv', index=False)\n",
        "x_test.to_csv('../datos/Test_1.csv', index=False)\n",
        "y_test.to_csv('../datos/Test_2.csv', index=False)\n",
        "\n",
        "print(\"\\nArchivos guardados exitosamente:\")\n",
        "print(\"- Train_X.csv: \", x_train.shape)\n",
        "print(\"- Train_Y.csv: \", y_train.shape)\n",
        "print(\"- Validation_1.csv: \", x_val.shape)\n",
        "print(\"- Validation_2.csv: \", y_val.shape)\n",
        "print(\"- Test_1.csv: \", x_test.shape)\n",
        "print(\"- Test_2.csv: \", y_test.shape)"
      ]
    },
    {
      "cell_type": "code",
      "execution_count": null,
      "metadata": {},
      "outputs": [],
      "source": []
    }
  ],
  "metadata": {
    "colab": {
      "provenance": []
    },
    "kernelspec": {
      "display_name": "Python 3",
      "language": "python",
      "name": "python3"
    },
    "language_info": {
      "codemirror_mode": {
        "name": "ipython",
        "version": 3
      },
      "file_extension": ".py",
      "mimetype": "text/x-python",
      "name": "python",
      "nbconvert_exporter": "python",
      "pygments_lexer": "ipython3",
      "version": "3.13.7"
    }
  },
  "nbformat": 4,
  "nbformat_minor": 0
}
