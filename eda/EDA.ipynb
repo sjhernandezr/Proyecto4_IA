{
 "cells": [
  {
   "cell_type": "code",
   "metadata": {},
   "source": "import pandas as pd\nimport numpy as np\nimport matplotlib.pyplot as plt\nimport seaborn as sns\nfrom scipy import stats\nimport warnings\nwarnings.filterwarnings('ignore')\n\n# Configuración de visualización\nplt.style.use('seaborn-v0_8-darkgrid')\nsns.set_palette(\"husl\")\n%matplotlib inline\n",
   "outputs": [],
   "execution_count": null
  },
  {
   "cell_type": "code",
   "metadata": {},
   "source": "# 1. CARGA Y VISTA INICIAL DE DATOS\nprint(\"=\" * 80)\nprint(\"1. CARGA DE DATOS\")\nprint(\"=\" * 80)\n\n# Cargar el dataset (ajusta la ruta si tu CSV está en otra carpeta)\ndf = pd.read_csv('data/Food_Delivery_Times.csv')\n\nprint(f\"\\nDimensiones del dataset: {df.shape[0]} filas x {df.shape[1]} columnas\")\nprint(\"\\nPrimeras 5 filas:\")\nprint(df.head())",
   "outputs": [],
   "execution_count": null
  },
  {
   "cell_type": "code",
   "metadata": {},
   "source": "print(\"\\n\" + \"=\" * 80)\nprint(\"2. INFORMACIÓN GENERAL\")\nprint(\"=\" * 80)\nprint(\"\\nInformación del dataset:\")\ndf.info()",
   "outputs": [],
   "execution_count": null
  },
  {
   "cell_type": "code",
   "metadata": {},
   "source": "print(\"\\n\" + \"=\" * 80)\nprint(\"3. ESTADÍSTICAS DESCRIPTIVAS\")\nprint(\"=\" * 80)\nprint(\"\\nEstadísticas para variables numéricas:\")\nprint(df.describe())\n\nprint(\"\\nEstadísticas para variables categóricas:\")\nprint(df.describe(include='object'))",
   "outputs": [],
   "execution_count": null
  },
  {
   "cell_type": "code",
   "metadata": {},
   "source": "# 4. VALORES FALTANTES\nprint(\"\\n\" + \"=\" * 80)\nprint(\"4. ANÁLISIS DE VALORES FALTANTES\")\nprint(\"=\" * 80)\n\nmissing = df.isnull().sum()\nmissing_pct = 100 * df.isnull().sum() / len(df)\nmissing_table = pd.DataFrame({\n    'Valores Faltantes': missing,\n    'Porcentaje (%)': missing_pct\n})\nmissing_table = missing_table[missing_table['Valores Faltantes'] > 0].sort_values(\n    'Porcentaje (%)', ascending=False\n)\n\nif len(missing_table) > 0:\n    print(\"\\nVariables con valores faltantes:\")\n    print(missing_table)\n    \n    # Visualización de valores faltantes\n    plt.figure(figsize=(10, 6))\n    missing_table['Porcentaje (%)'].plot(kind='barh', color='coral')\n    plt.xlabel('Porcentaje de Valores Faltantes (%)')\n    plt.title('Valores Faltantes por Variable')\n    plt.tight_layout()\n    plt.show()\nelse:\n    print(\"\\n✓ No hay valores faltantes en el dataset\")",
   "outputs": [],
   "execution_count": null
  },
  {
   "cell_type": "code",
   "metadata": {},
   "source": "# 5. ANÁLISIS UNIVARIADO\nprint(\"\\n\" + \"=\" * 80)\nprint(\"5. ANÁLISIS UNIVARIADO\")\nprint(\"=\" * 80)\n\n# Variable objetivo: Delivery_Time_min\nprint(\"\\n--- Variable Objetivo: Delivery_Time_min ---\")\nprint(f\"Media: {df['Delivery_Time_min'].mean():.2f} minutos\")\nprint(f\"Mediana: {df['Delivery_Time_min'].median():.2f} minutos\")\nprint(f\"Desviación estándar: {df['Delivery_Time_min'].std():.2f} minutos\")\nprint(f\"Mínimo: {df['Delivery_Time_min'].min():.2f} minutos\")\nprint(f\"Máximo: {df['Delivery_Time_min'].max():.2f} minutos\")\n\n# Visualización de la variable objetivo\nfig, axes = plt.subplots(2, 2, figsize=(15, 10))\n\n# Histograma\naxes[0, 0].hist(df['Delivery_Time_min'], bins=30, color='skyblue', edgecolor='black')\naxes[0, 0].set_xlabel('Tiempo de Entrega (min)')\naxes[0, 0].set_ylabel('Frecuencia')\naxes[0, 0].set_title('Distribución de Tiempos de Entrega')\n\n# Boxplot\naxes[0, 1].boxplot(df['Delivery_Time_min'], vert=True)\naxes[0, 1].set_ylabel('Tiempo de Entrega (min)')\naxes[0, 1].set_title('Boxplot de Tiempos de Entrega')\naxes[0, 1].grid(True, alpha=0.3)\n\n# QQ-plot\nstats.probplot(df['Delivery_Time_min'], dist=\"norm\", plot=axes[1, 0])\naxes[1, 0].set_title('Q-Q Plot')\n\n# KDE\ndf['Delivery_Time_min'].plot(kind='kde', ax=axes[1, 1], color='green')\naxes[1, 1].set_xlabel('Tiempo de Entrega (min)')\naxes[1, 1].set_title('Densidad de Tiempos de Entrega')\n\nplt.tight_layout()\nplt.show()\n\n# Análisis de variables numéricas\nprint(\"\\n--- Variables Numéricas ---\")\nnumeric_cols = ['Distance_km', 'Preparation_Time_min', 'Courier_Experience_yrs']\n\nfig, axes = plt.subplots(2, 3, figsize=(18, 10))\naxes = axes.flatten()\n\nfor i, col in enumerate(numeric_cols):\n    # Histograma\n    axes[i].hist(df[col].dropna(), bins=25, color='lightblue', edgecolor='black')\n    axes[i].set_xlabel(col)\n    axes[i].set_ylabel('Frecuencia')\n    axes[i].set_title(f'Distribución de {col}')\n    \n    # Boxplot\n    axes[i+3].boxplot(df[col].dropna(), vert=True)\n    axes[i+3].set_ylabel(col)\n    axes[i+3].set_title(f'Boxplot de {col}')\n    axes[i+3].grid(True, alpha=0.3)\n\nplt.tight_layout()\nplt.show()",
   "outputs": [],
   "execution_count": null
  },
  {
   "cell_type": "code",
   "metadata": {},
   "source": "# Análisis de variables categóricas\nprint(\"\\n--- Variables Categóricas ---\")\ncategorical_cols = ['Weather', 'Traffic_Level', 'Time_of_Day', 'Vehicle_Type']\n\nfig, axes = plt.subplots(2, 2, figsize=(16, 10))\naxes = axes.flatten()\n\nfor i, col in enumerate(categorical_cols):\n    counts = df[col].value_counts()\n    print(f\"\\n{col}:\")\n    print(counts)\n    \n    axes[i].bar(counts.index, counts.values, color='steelblue', edgecolor='black')\n    axes[i].set_xlabel(col)\n    axes[i].set_ylabel('Frecuencia')\n    axes[i].set_title(f'Distribución de {col}')\n    axes[i].tick_params(axis='x', rotation=45)\n\nplt.tight_layout()\nplt.show()",
   "outputs": [],
   "execution_count": null
  },
  {
   "cell_type": "code",
   "metadata": {},
   "source": "# 6. ANÁLISIS BIVARIADO\nprint(\"\\n\" + \"=\" * 80)\nprint(\"6. ANÁLISIS BIVARIADO\")\nprint(\"=\" * 80)\n\n# Correlación entre variables numéricas\nprint(\"\\n--- Matriz de Correlación ---\")\nnumeric_data = df[['Distance_km', 'Preparation_Time_min', 'Courier_Experience_yrs', \n                    'Delivery_Time_min']].dropna()\ncorrelation_matrix = numeric_data.corr()\nprint(correlation_matrix)\n\nplt.figure(figsize=(10, 8))\nsns.heatmap(correlation_matrix, annot=True, cmap='coolwarm', center=0, \n            square=True, linewidths=1, cbar_kws={\"shrink\": 0.8})\nplt.title('Matriz de Correlación', fontsize=16, pad=20)\nplt.tight_layout()\nplt.show()\n\n# Scatter plots\nfig, axes = plt.subplots(1, 3, figsize=(18, 5))\n\naxes[0].scatter(df['Distance_km'], df['Delivery_Time_min'], alpha=0.5, color='blue')\naxes[0].set_xlabel('Distancia (km)')\naxes[0].set_ylabel('Tiempo de Entrega (min)')\naxes[0].set_title('Distancia vs Tiempo de Entrega')\naxes[0].grid(True, alpha=0.3)\n\naxes[1].scatter(df['Preparation_Time_min'], df['Delivery_Time_min'], alpha=0.5, color='green')\naxes[1].set_xlabel('Tiempo de Preparación (min)')\naxes[1].set_ylabel('Tiempo de Entrega (min)')\naxes[1].set_title('Tiempo de Preparación vs Tiempo de Entrega')\naxes[1].grid(True, alpha=0.3)\n\naxes[2].scatter(df['Courier_Experience_yrs'], df['Delivery_Time_min'], alpha=0.5, color='red')\naxes[2].set_xlabel('Experiencia del Courier (años)')\naxes[2].set_ylabel('Tiempo de Entrega (min)')\naxes[2].set_title('Experiencia vs Tiempo de Entrega')\naxes[2].grid(True, alpha=0.3)\n\nplt.tight_layout()\nplt.show()",
   "outputs": [],
   "execution_count": null
  },
  {
   "cell_type": "code",
   "metadata": {},
   "source": "# Análisis por variables categóricas\nprint(\"\\n--- Tiempo de Entrega por Variables Categóricas ---\")\n\nfig, axes = plt.subplots(2, 2, figsize=(16, 12))\naxes = axes.flatten()\n\nfor i, col in enumerate(categorical_cols):\n    df_clean = df[[col, 'Delivery_Time_min']].dropna()\n    df_clean.boxplot(column='Delivery_Time_min', by=col, ax=axes[i])\n    axes[i].set_xlabel(col)\n    axes[i].set_ylabel('Tiempo de Entrega (min)')\n    axes[i].set_title(f'Tiempo de Entrega por {col}')\n    axes[i].get_figure().suptitle('')\n    \n    # Estadísticas\n    print(f\"\\n{col}:\")\n    print(df_clean.groupby(col)['Delivery_Time_min'].describe())\n\nplt.tight_layout()\nplt.show()",
   "outputs": [],
   "execution_count": null
  },
  {
   "cell_type": "code",
   "metadata": {},
   "source": "# 7. DETECCIÓN DE OUTLIERS\nprint(\"\\n\" + \"=\" * 80)\nprint(\"7. DETECCIÓN DE OUTLIERS\")\nprint(\"=\" * 80)\n\ndef detect_outliers_iqr(data, column):\n    Q1 = data[column].quantile(0.25)\n    Q3 = data[column].quantile(0.75)\n    IQR = Q3 - Q1\n    lower_bound = Q1 - 1.5 * IQR\n    upper_bound = Q3 + 1.5 * IQR\n    outliers = data[(data[column] < lower_bound) | (data[column] > upper_bound)]\n    return outliers, lower_bound, upper_bound\n\nnumeric_cols_with_target = numeric_cols + ['Delivery_Time_min']\n\nfor col in numeric_cols_with_target:\n    outliers, lower, upper = detect_outliers_iqr(df, col)\n    pct_outliers = (len(outliers) / len(df)) * 100\n    print(f\"\\n{col}:\")\n    print(f\"  Límite inferior: {lower:.2f}\")\n    print(f\"  Límite superior: {upper:.2f}\")\n    print(f\"  Cantidad de outliers: {len(outliers)} ({pct_outliers:.2f}%)\")",
   "outputs": [],
   "execution_count": null
  },
  {
   "cell_type": "code",
   "metadata": {},
   "source": "# 8. RESUMEN Y CONCLUSIONES\nprint(\"\\n\" + \"=\" * 80)\nprint(\"8. RESUMEN Y CONCLUSIONES\")\nprint(\"=\" * 80)\n\nprint(f\"\"\"\nRESUMEN DEL ANÁLISIS EXPLORATORIO:\n\n1. Dataset:\n   - Total de registros: {len(df)}\n   - Total de variables: {len(df.columns)}\n   - Variables numéricas: {len(df.select_dtypes(include=[np.number]).columns)}\n   - Variables categóricas: {len(df.select_dtypes(include=['object']).columns)}\n\n2. Variable Objetivo (Delivery_Time_min):\n   - Promedio: {df['Delivery_Time_min'].mean():.2f} minutos\n   - Rango: {df['Delivery_Time_min'].min():.0f} - {df['Delivery_Time_min'].max():.0f} minutos\n   \n3. Correlaciones más fuertes con Delivery_Time_min:\n{correlation_matrix['Delivery_Time_min'].sort_values(ascending=False).to_string()}\n\n4. Valores Faltantes:\n   - Total de valores faltantes: {df.isnull().sum().sum()}\n   - Variables afectadas: {len(missing_table) if len(missing_table) > 0 else 0}\n\n5. Características del Delivery:\n   - Distancia promedio: {df['Distance_km'].mean():.2f} km\n   - Tiempo de preparación promedio: {df['Preparation_Time_min'].mean():.2f} min\n   - Experiencia promedio de couriers: {df['Courier_Experience_yrs'].mean():.2f} años\n   - Tipo de vehículo más común: {df['Vehicle_Type'].mode()[0]}\n   - Condición climática más frecuente: {df['Weather'].mode()[0]}\n\"\"\")\n\nprint(\"\\n\" + \"=\" * 80)\nprint(\"EDA COMPLETADO\")\nprint(\"=\" * 80)",
   "outputs": [],
   "execution_count": null
  }
 ],
 "metadata": {
  "kernelspec": {
   "display_name": "Python 3",
   "language": "python",
   "name": "python3"
  },
  "language_info": {
   "name": "python",
   "version": "3"
  }
 },
 "nbformat": 4,
 "nbformat_minor": 5
}